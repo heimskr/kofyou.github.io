{
 "cells": [
  {
   "cell_type": "markdown",
   "id": "c8a15fc4",
   "metadata": {
    "slideshow": {
     "slide_type": "slide"
    }
   },
   "source": [
    "# Verification and Synthesis by UCLID5, the Huffman Encoding Hardware Implementation\n",
    "\n",
    "Kai and Mingsheng"
   ]
  },
  {
   "cell_type": "markdown",
   "id": "845f1720",
   "metadata": {
    "slideshow": {
     "slide_type": "slide"
    }
   },
   "source": [
    "## Outline\n",
    "\n",
    "1. Model Introduction\n",
    "2. UCLID5 Basics\n",
    "3. Verification\n",
    "4. Synthesis"
   ]
  },
  {
   "cell_type": "markdown",
   "id": "d057c819",
   "metadata": {
    "slideshow": {
     "slide_type": "slide"
    }
   },
   "source": [
    "## Model Introduction\n",
    "\n",
    "### Problem\n",
    "Given an input text, count different characters and their frequenciies and come up with an encoding such that the text size is minimized.\n",
    "\n",
    "### Example: \"11110000 >> 111 =\"\n",
    "\n",
    "| character | frequency |\n",
    "| --------- | --------- |\n",
    "| '1'       | 5         |\n",
    "| '0'       | 4         |\n",
    "| '\\s'      | 3         |\n",
    "| '>'       | 2         |\n",
    "| '='       | 1         |\n",
    "\n",
    "- The easy way to encode **5** characters needs **3 bits** for each.\n",
    "- The total text size would be **3\\*(5+4+3+2+1) = 45**\n",
    "\n",
    "\\**This slide is taken from our CSE225 presentation*"
   ]
  },
  {
   "cell_type": "markdown",
   "id": "5bc37e6b",
   "metadata": {
    "slideshow": {
     "slide_type": "slide"
    }
   },
   "source": [
    "### Solution\n",
    "\n",
    "Iteratively combine the two least frequent characters into a group.\n",
    "\n",
    "<img src=\"huff1.PNG\" style=\"width: 600px;\"/>\n",
    "\n",
    "\\**This slide is taken from our CSE225 presentation*"
   ]
  },
  {
   "cell_type": "markdown",
   "id": "d1c12f68",
   "metadata": {
    "slideshow": {
     "slide_type": "slide"
    }
   },
   "source": [
    "<img src=\"huff2.PNG\" style=\"width: 600px;\"/>\n",
    "\n",
    "\\**This slide is taken from our CSE225 presentation*"
   ]
  },
  {
   "cell_type": "markdown",
   "id": "5f83b559",
   "metadata": {
    "slideshow": {
     "slide_type": "slide"
    }
   },
   "source": [
    "<img src=\"huff3.PNG\" style=\"width: 650px;\"/>\n",
    "\n",
    "\\**This slide is taken from our CSE225 presentation*"
   ]
  },
  {
   "cell_type": "markdown",
   "id": "14fbcb4f",
   "metadata": {
    "slideshow": {
     "slide_type": "slide"
    }
   },
   "source": [
    "<img src=\"huff4.PNG\" style=\"width: 600px;\"/>\n",
    "\n",
    "The resulting tree provides the optimal encoding:\n",
    "- 2\\*5 + 2\\*4 + 2\\*3 + 3\\*2 + 3\\*1 = **33** < 45\n",
    "\n",
    "\\**This slide is taken from our CSE225 presentation*"
   ]
  },
  {
   "cell_type": "markdown",
   "id": "cf73265d",
   "metadata": {
    "slideshow": {
     "slide_type": "slide"
    }
   },
   "source": [
    "### Environment: Huffman Node Memory\n",
    "\n",
    "Pre-populated with the characters and frequencies.\n",
    "- The **<span style=\"color:blue\">addr 0 in blue</span>** is reserved for denoting NULL\n",
    "- The **<span style=\"color:red\">addrs in red</span>** stores leaf nodes (the character-frequency pairs). Note that some tailing entries might be empty\n",
    "- The **<span style=\"color:green\">rest in green</span>** will store internal nodes. Note that some tailing entries might be empty\n",
    "- The left/right addr encodes the tree\n",
    "- Three read ports for same cycle access to parent and children\n",
    "\n",
    "| addr          | char  | frequency | left child addr | right child addr |\n",
    "| ------------- | ----- | --------- | --------------- | ---------------- |\n",
    "| **<span style=\"color:blue\">0</span>**             |       |           |                 |                  |\n",
    "| **<span style=\"color:red\">1</span>**              | '1'   | 5         | 0               | 0                |\n",
    "| **<span style=\"color:red\">2</span>**              | '0'   | 4         | 0               | 0                |\n",
    "| **<span style=\"color:red\">3</span>**              | '\\\\s' | 3         | 0               | 0                |\n",
    "| **<span style=\"color:red\">...</span>**           |       |           |                 |                  |\n",
    "| **<span style=\"color:red\">ALPHABET_SIZE</span>** |       |           |                 |                  |\n",
    "| **<span style=\"color:green\">ALPHABET_SIZE+1</span>** |       |           |                 |                  |\n",
    "| **<span style=\"color:green\">...</span>**           |       |           |                 |                  |\n",
    "| **<span style=\"color:green\">MAX_NODE</span>**      |       |           |                 |                  |\n",
    "\n",
    "\\**This slide is taken from our CSE225 presentation*"
   ]
  },
  {
   "cell_type": "markdown",
   "id": "41a764ba",
   "metadata": {
    "slideshow": {
     "slide_type": "slide"
    }
   },
   "source": [
    "### System: Huffman Constructor\n",
    "\n",
    "A state machine that builds the Huffman tree.\n",
    "- Read characters and frequencies from the memory (read leaves)\n",
    "- Write new internal nodes to the memory (write internal nodes)\n",
    "\n",
    "<img src=\"CFSM.PNG\" style=\"width: 500px;\"/>\n",
    "\n",
    "### Composition: Memory + Constructor \n",
    "\n",
    "We compose the Node Memory with the Huffman Constructor into one system so there is no input.\n",
    "\n",
    "\\**The diagram is taken from our CSE225 presentation*"
   ]
  },
  {
   "cell_type": "markdown",
   "id": "1515aa12",
   "metadata": {
    "slideshow": {
     "slide_type": "slide"
    }
   },
   "source": [
    "## UCLID5 Basics\n",
    "UCLID5 is a technique for system modelling and verification.\n",
    "\n",
    "Main parts of a typical UCLID5 program:\n",
    "\n",
    "<img src=\"./assets/basics.png\" style=\"width: 400px;\"/>"
   ]
  },
  {
   "cell_type": "markdown",
   "id": "bb4d6fc4",
   "metadata": {
    "slideshow": {
     "slide_type": "slide"
    }
   },
   "source": [
    "### Correlation Between Verilog and UCLID5\n",
    "\n",
    "1. the init block describes registers after reset\n",
    "2. the next block describes how registers update values\n",
    "\n",
    "<img src=\"./assets/correlation.png\" style=\"width: 500px;\"/>"
   ]
  },
  {
   "cell_type": "markdown",
   "id": "555c43a0",
   "metadata": {
    "slideshow": {
     "slide_type": "slide"
    }
   },
   "source": [
    "## Verification\n",
    "\n",
    "### Deterministic Memory\n",
    "\n",
    "- Fistly, we want to make sure that our model is correct\n",
    "- We initialize the whole memory such that there is only one possible run\n",
    "- We assert values at different state. If the assertion fails, UCLID5 prints out the counter examples\n",
    "- And we correct our model based on the counter example\n",
    "\n",
    "<img src=\"./assets/nond.png\" style=\"width: 500px;\"/>\n"
   ]
  },
  {
   "cell_type": "markdown",
   "id": "91c46748",
   "metadata": {
    "slideshow": {
     "slide_type": "slide"
    }
   },
   "source": [
    "### Non-Deterministic Memory\n",
    "\n",
    "- Then we need to generalize the memory to allow for general verification\n",
    "- Instead of initializing the whole memory, what really matters for Huffman is:\n",
    "    - For all the alphabet characters, they don't have children\n",
    "    - There are at least two characters with non-zero frequency\n",
    "- Some initial values are irrelavent, because they will be overwritten before read\n",
    "    - But we initialize them to zeros, so that UCLID5 has smaller space to explore\n",
    "\n",
    "<img src=\"./assets/re_d_init.png\" style=\"width: 700px;\"/>"
   ]
  },
  {
   "cell_type": "markdown",
   "id": "752bd5e3",
   "metadata": {
    "slideshow": {
     "slide_type": "slide"
    }
   },
   "source": [
    "### What Properties Contribute to the Correctness of the system?\n",
    "\n",
    "<img src=\"./assets/nond.png\" style=\"width: 500px;\"/>"
   ]
  },
  {
   "cell_type": "markdown",
   "id": "157f67d0",
   "metadata": {
    "slideshow": {
     "slide_type": "slide"
    }
   },
   "source": [
    "### Diameter Analysis\n",
    "\n",
    "- The algorithm always terminates and has an upper-bound for the run time.\n",
    "- Given the initial memory size (number of characters), we can calculate the worst-case run time.\n",
    "- Therefore, as long as the steps are large enough, bounded model checking accomplishes complete verification.\n",
    "\n",
    "Assume the size of the alphabet is $n$\n",
    "- Read through the alphabet and count the initial heap size: $O(n)$\n",
    "- Heap construction: $O(n)$ *\n",
    "- Huffman Construction: $O(n\\log n)$\n",
    "\n",
    "\\**Reference: http://en.wikipedia.org/wiki/Binary_heap*\n"
   ]
  },
  {
   "cell_type": "markdown",
   "id": "39521b82",
   "metadata": {
    "slideshow": {
     "slide_type": "slide"
    }
   },
   "source": [
    "## Synthesis\n",
    "\n",
    "UCLID5 uses cvc5 as the engine for function synthesis\n",
    "- Provide the function signature and the specification to be met\n",
    "- Does not seem to allow syntax information"
   ]
  },
  {
   "cell_type": "markdown",
   "id": "4e0c2fa2",
   "metadata": {
    "slideshow": {
     "slide_type": "slide"
    }
   },
   "source": [
    "### The Problem: Synthesizing the Truth table\n",
    "\n",
    "Minheapify: a function that maintains the order between the parents and children. If the parent is larger than the children, we need to replace the parent with the smallest value.\n",
    "\n",
    "```C++\n",
    "smallest = parent;\n",
    "\n",
    "if (left_child < smallest) {\n",
    "    smallest = left_child;\n",
    "}\n",
    "\n",
    "if (right_child < smallest) {\n",
    "    smallest = right_child;\n",
    "}\n",
    "\n",
    "return smallest;\n",
    "```"
   ]
  },
  {
   "cell_type": "markdown",
   "id": "c45ab76c",
   "metadata": {
    "slideshow": {
     "slide_type": "slide"
    }
   },
   "source": [
    "For the hardware implementation, we want to get the smallest value within a single cycle. Then we need to analyze case by case, and write down the whole \"truth table.\"\n",
    "\n",
    "<img src=\"eq.PNG\" style=\"width: 200px;\"/>\n",
    "\n",
    "```Verilog\n",
    "\t\t\t\tcasez ({less1, less2, less3})\n",
    "\t\t\t\t\t{3'b000}:\n",
    "\t\t\t\t\t\tsmallest_heap_index = right_child_heap_index;\n",
    "\t\t\t\t\t{3'b01?}:\n",
    "\t\t\t\t\t\tsmallest_heap_index = heap_index;\n",
    "\t\t\t\t\t{3'b100}:\n",
    "\t\t\t\t\t\tsmallest_heap_index = right_child_heap_index;\n",
    "\t\t\t\t\t{3'b101}:\n",
    "\t\t\t\t\t\tsmallest_heap_index = left_child_heap_index;\n",
    "\t\t\t\t\t{3'b111}:\n",
    "\t\t\t\t\t\tsmallest_heap_index = left_child_heap_index;\n",
    "\t\t\t\t\tdefault: \n",
    "\t\t\t\t\t\tsmallest_heap_index = 0;\n",
    "\t\t\t\tendcase\n",
    "```\n",
    "\n",
    "\\**This diagram is taken from our CSE225 presentation*"
   ]
  },
  {
   "cell_type": "markdown",
   "id": "86b57bca",
   "metadata": {
    "slideshow": {
     "slide_type": "slide"
    }
   },
   "source": [
    "Can we let the tool synthesize the case by case analysis for us?\n",
    "\n",
    "<img src=\"./assets/sml_syn.png\" style=\"width: 700px;\"/>\n"
   ]
  },
  {
   "cell_type": "markdown",
   "id": "56047f59",
   "metadata": {
    "slideshow": {
     "slide_type": "slide"
    }
   },
   "source": [
    "Output in cvc5 grammar. It might be feasible if we directly use cvc5 and provide more syntax information.\n",
    "\n",
    "```\n",
    "(define-fun synth_get_smallest ((eq1 Bool) (eq2 Bool) (eq3 Bool) (val1 Int) (val2 Int) (val3 Int)) Int \n",
    "(let ((_let_1 (* (- 1) val3)))\n",
    "(let ((_let_2 (+ val2 _let_1)))\n",
    "(let ((_let_3 (>= _let_2 0)))\n",
    "(let ((_let_4 (+ val1 _let_1)))\n",
    "(let ((_let_5 (>= _let_4 0)))\n",
    "(let ((_let_6 (+ val1 (* (- 1) val2))))\n",
    "(let ((_let_7 (>= _let_6 1)))\n",
    "(let ((_let_8 (= eq1 _let_7)))\n",
    "(ite (and (= eq2 (not _let_5))\n",
    "(= eq3 (not _let_3))\n",
    "(or (and eq1 _let_7)\n",
    "(and _let_8 (>= _let_4 1))))\n",
    "(ite (and _let_8 (or (>= _let_2 1)\n",
    "(not (>= _let_6 0))))\n",
    "(ite (and (or _let_5 (not eq2))\n",
    "(or _let_3 (not eq3)))\n",
    "val3 (+ 1 val3))\n",
    "val2) val1))))))))))\n",
    "```"
   ]
  },
  {
   "cell_type": "markdown",
   "id": "86d39ca0",
   "metadata": {
    "slideshow": {
     "slide_type": "slide"
    }
   },
   "source": [
    "## What's Next\n",
    "\n"
   ]
  }
 ],
 "metadata": {
  "celltoolbar": "Slideshow",
  "kernelspec": {
   "display_name": "Python 3 (ipykernel)",
   "language": "python",
   "name": "python3"
  },
  "language_info": {
   "codemirror_mode": {
    "name": "ipython",
    "version": 3
   },
   "file_extension": ".py",
   "mimetype": "text/x-python",
   "name": "python",
   "nbconvert_exporter": "python",
   "pygments_lexer": "ipython3",
   "version": "3.8.10"
  }
 },
 "nbformat": 4,
 "nbformat_minor": 5
}
